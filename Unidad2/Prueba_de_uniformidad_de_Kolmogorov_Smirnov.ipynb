{
  "nbformat": 4,
  "nbformat_minor": 0,
  "metadata": {
    "colab": {
      "provenance": []
    },
    "kernelspec": {
      "name": "python3",
      "display_name": "Python 3"
    },
    "language_info": {
      "name": "python"
    }
  },
  "cells": [
    {
      "cell_type": "markdown",
      "source": [
        "#Luis Tadeo Becerra Rocha\n",
        "##Simulación\n",
        "###Practica 2\n",
        "\n"
      ],
      "metadata": {
        "id": "24vmfP5NTjL2"
      }
    },
    {
      "cell_type": "code",
      "source": [
        "import numpy as np\n",
        "from scipy import stats\n",
        "\n",
        "# Generar 100 números aleatorios entre 0 y 1\n",
        "n = 100\n",
        "random_numbers = np.random.uniform(0, 1, n)\n",
        "\n",
        "print(\"Numeros Aleatorios Generados:\")\n",
        "print(random_numbers)\n",
        "\n",
        "# Realizar la prueba de Kolmogorov-Smirnov (KS)\n",
        "# Se compara la distribución empírica de los datos con la distribución uniforme\n",
        "ks_statistic, p_value = stats.kstest(random_numbers, 'uniform')\n",
        "\n",
        "print(\"\\nEstadístico de Kolmogorov-Smirnov:\", ks_statistic)\n",
        "print(\"Valor p:\", p_value)\n",
        "\n",
        "# Tomar la decisión sobre la hipótesis nula\n",
        "if p_value < 0.05:\n",
        "    print(\"\\nRechazamos la hipótesis nula: la distribución no es uniforme.\")\n",
        "else:\n",
        "    print(\"\\nNo podemos rechazar la hipótesis nula: la distribución parece uniforme.\")\n"
      ],
      "metadata": {
        "colab": {
          "base_uri": "https://localhost:8080/"
        },
        "id": "xktQlG13Tsy7",
        "outputId": "a6db3e5f-5143-45ad-de1e-913b9cf5291e"
      },
      "execution_count": 5,
      "outputs": [
        {
          "output_type": "stream",
          "name": "stdout",
          "text": [
            "Numeros Aleatorios Generados:\n",
            "[0.98971302 0.11726296 0.41534906 0.17330689 0.6019862  0.40517893\n",
            " 0.30605609 0.44793664 0.12144743 0.87053916 0.1016562  0.36867775\n",
            " 0.26980909 0.34938244 0.27092557 0.58016436 0.01039537 0.96837101\n",
            " 0.88457498 0.59213803 0.18558823 0.37537327 0.22118223 0.36930792\n",
            " 0.24351726 0.49300304 0.55916669 0.76090688 0.12945754 0.05900171\n",
            " 0.14584739 0.08795857 0.33779067 0.33729092 0.33992793 0.14491079\n",
            " 0.56041837 0.2783131  0.83065972 0.77358753 0.00617994 0.44664894\n",
            " 0.2339281  0.06506135 0.64747856 0.58260991 0.79684332 0.30197842\n",
            " 0.88110272 0.23116162 0.41858141 0.15968966 0.90638357 0.29000397\n",
            " 0.64662185 0.07013094 0.08682632 0.39598454 0.02780687 0.89341261\n",
            " 0.67637898 0.82650833 0.32514692 0.72583775 0.39834377 0.49262346\n",
            " 0.9624426  0.68098189 0.99356254 0.17988609 0.62574116 0.03348038\n",
            " 0.84709976 0.22174586 0.07912508 0.58843089 0.71791808 0.9037722\n",
            " 0.97797939 0.97159855 0.99574328 0.87173149 0.36523868 0.47137951\n",
            " 0.88908007 0.18162025 0.42316053 0.66870948 0.99129739 0.79869922\n",
            " 0.7315434  0.34902967 0.47236745 0.23902994 0.35595552 0.06392368\n",
            " 0.97437409 0.42577113 0.39598133 0.29544784]\n",
            "\n",
            "Estadístico de Kolmogorov-Smirnov: 0.11422887192775133\n",
            "Valor p: 0.1360214105912419\n",
            "\n",
            "No podemos rechazar la hipótesis nula: la distribución parece uniforme.\n"
          ]
        }
      ]
    }
  ]
}