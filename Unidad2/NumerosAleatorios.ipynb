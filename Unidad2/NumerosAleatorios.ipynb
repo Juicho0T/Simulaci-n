{
  "nbformat": 4,
  "nbformat_minor": 0,
  "metadata": {
    "colab": {
      "provenance": []
    },
    "kernelspec": {
      "name": "python3",
      "display_name": "Python 3"
    },
    "language_info": {
      "name": "python"
    }
  },
  "cells": [
    {
      "cell_type": "markdown",
      "source": [
        "#Simulacion\n",
        "##Practica 1\n",
        "###Generación de números aleatorios por el método de centros al cuadrado\n",
        "Alumno: Luis Tadeo Becerra Rocha\n"
      ],
      "metadata": {
        "id": "vIElOqlM4Nf7"
      }
    },
    {
      "cell_type": "code",
      "source": [
        "#Semilla Inicial\n",
        "semilla= 2005;\n",
        "n= 4;\n",
        "Iteraciones = 100;\n",
        "resultados = []\n",
        "\n",
        "for _ in range(iteraciones):\n",
        "#elevar la semilla al cuadrado\n",
        "cuadrado = str(semilla**2).zfill(2*n) #Se agregan los espacios necesarios\n",
        "#Extraer los digitos centrales\n",
        "Inicio = (len(cuadrado)- n)// 2\n",
        "semilla= int(cuadrado[inicio:inicio+n])\n",
        "resultados.append(semilla)\n",
        "#imprimir los resultados\n",
        "for i, numero in enumerate(resultados, 1);\n",
        "print(f\"Numero Aleatorio{i}: {numero}\")"
      ],
      "metadata": {
        "id": "3ydNKO7l4faB",
        "colab": {
          "base_uri": "https://localhost:8080/",
          "height": 106
        },
        "outputId": "c277c010-147b-40b8-a297-1436f1f778cf"
      },
      "execution_count": null,
      "outputs": [
        {
          "output_type": "error",
          "ename": "IndentationError",
          "evalue": "expected an indented block after 'for' statement on line 7 (<ipython-input-4-ae712fc4879c>, line 9)",
          "traceback": [
            "\u001b[0;36m  File \u001b[0;32m\"<ipython-input-4-ae712fc4879c>\"\u001b[0;36m, line \u001b[0;32m9\u001b[0m\n\u001b[0;31m    cuadrado = str(semilla**2).zfill(2*n) #Se agregan los espacios necesarios\u001b[0m\n\u001b[0m    ^\u001b[0m\n\u001b[0;31mIndentationError\u001b[0m\u001b[0;31m:\u001b[0m expected an indented block after 'for' statement on line 7\n"
          ]
        }
      ]
    }
  ]
}